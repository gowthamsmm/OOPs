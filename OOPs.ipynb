{
  "nbformat": 4,
  "nbformat_minor": 0,
  "metadata": {
    "colab": {
      "provenance": []
    },
    "kernelspec": {
      "name": "python3",
      "display_name": "Python 3"
    },
    "language_info": {
      "name": "python"
    }
  },
  "cells": [
    {
      "cell_type": "markdown",
      "source": [
        "# Python OOPs Questions"
      ],
      "metadata": {
        "id": "-LPvzLN6lw2y"
      }
    },
    {
      "cell_type": "markdown",
      "source": [
        "1. What is Object-Oriented Programming (OOP)?\n",
        "   * OOP structures software around \"objects\" that combine data (attributes) and code (methods). Key principles include:\n",
        "\n",
        "    * Encapsulation: Bundling data and methods, controlling access.\n",
        "    * Abstraction: Showing essential details, hiding complexity.\n",
        "    * Inheritance: Creating new classes from existing ones, reusing code.\n",
        "    * Polymorphism: Objects responding differently to the same method.\n",
        "\n",
        "     OOP promotes modularity, reusability, and maintainability.\n",
        "\n",
        "2. What is a class in OOP?\n",
        "   * A class in OOP is a blueprint or template that defines the attributes (data) and methods (behavior) of objects. It's a description of what objects of that type will be like.\n",
        "\n",
        "3. What is an object in OOP?\n",
        "   * An object in OOP is a specific instance of a class. It's a real-world entity with the attributes and behaviors defined by its class.\n",
        "\n",
        "4. What is the difference between abstraction and encapsulation?\n",
        "   * Abstraction: Hides complex details and shows only the simple, important parts. Like a car's dashboard—you see the speedometer, not the engine's insides.\n",
        "\n",
        "   * Encapsulation: Keeps an object's data safe by locking it inside and only letting you use it through specific methods. Like a bank account—you can deposit money, but you can’t directly touch the balance.\n",
        "\n",
        "   Difference: Abstraction simplifies what you see, encapsulation protects what’s inside.\n",
        "\n",
        "5. What are dunder methods in Python?\n",
        "   * Dunder methods (like __init__ or __str__) in Python are special hidden methods that get automatically called by Python when you do certain things with your objects.\n",
        "\n",
        "   * Think of them as giving your objects superpowers to work with Python's built-in features:\n",
        "\n",
        "    * __init__: Makes your object ready when it's created.\n",
        "    * __str__: Decides what happens when you try to print your object.\n",
        "    * __len__: Lets you use the len() function on your object.\n",
        "    * __getitem__: Allows you to use square brackets [] to access parts of your object.\n",
        "\n",
        "    They let you customize how your objects behave with Python's standard tools.\n",
        "\n",
        "6.  Explain the concept of inheritance in OOP?\n",
        "    * Inheritance in OOP is when a new class (child) gets features (data and functions) from an existing class (parent). It’s like a kid inheriting traits from a parent. The child can use the parent’s features, add new ones, or change how some work. This saves time and keeps code organized.\n",
        "\n",
        "          Example:\n",
        "\n",
        "          * Parent: Animal has speak().\n",
        "          * Child: Dog inherits from Animal, changes speak() to \"Woof,\" and adds fetch().\n",
        "\n",
        "7. What is polymorphism in OOP?\n",
        "   * Polymorphism in OOP means different classes can use the same method name but act in their own way. It’s like a \"speak\" button: a dog says \"Woof,\" a cat says \"Meow,\" but both are animals. You call the same method, and each object does its own thing.\n",
        "\n",
        "         Example:\n",
        "\n",
        "         * Animal class has speak().\n",
        "         * Dog makes speak() say \"Woof.\"\n",
        "         * Cat makes speak() say \"Meow.\"\n",
        "\n",
        "8.  How is encapsulation achieved in Python?\n",
        "    * Encapsulation in Python is keeping an object’s data safe by hiding it and only allowing access through specific methods. It’s like a piggy bank—you can’t grab the money directly, but you can use a slot to add or check it.\n",
        "    * How It’s Done\n",
        "      * Private Data: Use __balance (double underscore) to hide an attribute so it’s hard to access from outside the class.\n",
        "      * Methods: Create functions like get_balance() or deposit() to safely read or change the hidden data.\n",
        "\n",
        "            Example\n",
        "            class PiggyBank:\n",
        "            def __init__(self, money):\n",
        "            self.__money = money  # Hidden\n",
        "            def check(self):\n",
        "            return self.__money  # Safe access\n",
        "\n",
        "            bank = PiggyBank(10)\n",
        "            print(bank.check())  # Shows 10\n",
        "            # print(bank.__money)  # Error: Can't touch directly\n",
        "\n",
        "9. What is a constructor in Python?\n",
        "   * A constructor (__init__) in Python is a special method that automatically runs when you create a new object from a class. It's like the object's \"initializer.\" You use it to set up the object with its starting information (attributes).\n",
        "\n",
        "10. What are class and static methods in Python?\n",
        "    * In Python, both class methods and static methods are methods bound to a class rather than an instance of the class. However, they differ in how they are defined and how they receive arguments.\n",
        "    * Class Method : A class method is defined using the @classmethod decorator before the method definition.\n",
        "    * Static Method : A static method is defined using the @staticmethod decorator before the method definition.\n",
        "\n",
        "11. What is method overloading in Python?\n",
        "    * Method overloading in OOP refers to the ability of a class to have multiple methods with the same name but different parameters.\n",
        "    * Python doesn't do method overloading the usual way (multiple methods with the same name but different parameters). Instead, it uses tricks like:\n",
        "\n",
        "     * Default values: Making some parameters optional.\n",
        "     * *args and **kwargs: Accepting any number of arguments.\n",
        "     * Checking argument types: Doing different things based on what you give the method.\n",
        "\n",
        "12. What is method overriding in OOP?\n",
        "    * Method overriding in Object-Oriented Programming (OOP) is a feature that allows a subclass (derived or child class) to provide a specific implementation for a method that is already defined in its superclass (base or parent class).\n",
        "\n",
        "13. What is a property decorator in Python?\n",
        "    * In Python, a property decorator (@property) is a built-in decorator that allows you to define a class attribute but manage its access and modification through method calls. It essentially lets you implement getters, setters, and deleters for an attribute while still accessing it using regular attribute access syntax.\n",
        "\n",
        "14. Why is polymorphism important in OOP?\n",
        "    * Polymorphism in OOP is important because it lets different objects be treated the same way, even if they behave differently. Imagine a \"play\" button that works for a radio, a TV, or a phone—each does something unique (plays music, shows video, or opens an app), but you can use one simple command for all.\n",
        "\n",
        "    * Why it important :\n",
        "\n",
        "     * Easier to add new things: You can add a new device, like a speaker, without rewriting the \"play\" code.\n",
        "     * Less messy code: You avoid repeating code for each device.\n",
        "     * Clear and flexible: It keeps things simple and lets your program handle variety smoothly.\n",
        "\n",
        "15. What is an abstract class in Python?\n",
        "    * An abstract class in Python is like a template for other classes. It’s a class you can’t use directly to create objects, but it tells other classes what they need to do.\n",
        "\n",
        "     * What it does: It sets rules, like saying, \"Every class based on me must have this method.\"\n",
        "     * How it works: You use the abc module and mark certain methods as \"abstract\" with @abstractmethod. Subclasses must fill in these methods with their own code.\n",
        "     * Why use it: It ensures all related classes (like Dog and Cat for an Animal abstract class) follow the same structure.\n",
        "\n",
        "16. What are the advantages of OOP?\n",
        "    * Object-Oriented Programming (OOP) has key advantages that make coding easier and better:\n",
        "\n",
        "     * Organized Code: OOP groups code into objects (like a Car or Dog), so it’s neat and easier to manage.\n",
        "     * Reusable: You can use the same code for similar things. For example, a Vehicle blueprint works for both Car and Bike.\n",
        "     * Flexible: Different objects can do the same task their own way. Like, a play button starts music on a radio and a video on a TV.\n",
        "     * Easy to Fix: You can update one part (like how a Car works) without messing up the rest of the program.\n",
        "     * Good for Big Projects: OOP keeps things clear and structured, so it’s easier to add new features as the project grows.\n",
        "\n",
        "17. What is the difference between a class variable and an instance variable?\n",
        "    * In Python, class variables and instance variables are different types of variables in a class. Here’s a explanation:\n",
        "\n",
        "    * Class Variable:\n",
        "     * Shared by all objects of the class.\n",
        "     * Like a single fact true for every object (e.g., all dogs belong to the \"Canine\" species).\n",
        "     * Defined outside methods, usually at the top of the class.\n",
        "     * Changing it affects all objects.\n",
        "    * Instance Variable:\n",
        "     * Unique to each object of the class.\n",
        "     * Like a personal detail for one object (e.g., one dog’s name is \"Buddy,\" another’s is \"Max\").\n",
        "     * Defined inside the __init__ method with self.\n",
        "     * Changing it only affects that object.\n",
        "\n",
        "18. What is multiple inheritance in Python?\n",
        "    * Multiple inheritance in Python is when a class inherits from more than one parent class. This allows the child class to combine and use attributes and methods from all its parent classes, creating a flexible way to share functionality.\n",
        "\n",
        "19.  Explain the purpose of ‘’__str__’ and ‘__repr__’ ‘ methods in Python?\n",
        "     * In Python, the __str__ and __repr__ methods are special (magic) methods used to define how an object is represented as a string. They control what you see when you print an object or inspect it in different contexts.\n",
        "     * __str__ Method:\n",
        "      * Purpose: Defines a human-readable string representation of an object.\n",
        "     * __repr__ Method:\n",
        "      * Purpose: Defines a detailed and unambiguous string representation of an object, often for developers.\n",
        "\n",
        "20. What is the significance of the ‘super()’ function in Python?\n",
        "    * The super() function in Python is used in a class to call methods or access properties from a parent class (superclass) when working with inheritance. It’s a way to extend or reuse the behavior of the parent class in a child class without directly naming the parent class.\n",
        "     * eusability: Lets you reuse parent class code instead of rewriting it.\n",
        "     * Extensibility: Makes it easy to extend or customize parent behavior in the child class.\n",
        "     * Maintainability: Avoids hardcoding parent class names, so changes to the class hierarchy (e.g., renaming a parent class) don’t break the code.\n",
        "     * Multiple Inheritance: Safely handles complex inheritance by following Python’s MRO, ensuring the right parent method is called.\n",
        "\n",
        "21. What is the significance of the __del__ method in Python?\n",
        "    * The __del__ method in Python is a special (magic) method that acts as a destructor for a class. It defines what happens when an object is about to be destroyed or deleted, typically when it’s no longer needed and Python’s garbage collector reclaims its memory.\n",
        "     * Resource Management: Ensures resources (files, network connections, memory) are released properly, preventing leaks.\n",
        "     * Custom Cleanup: Lets you define specific cleanup logic for your objects.\n",
        "     * Good Practice: Useful in cases where objects manage external resources that Python’s garbage collector doesn’t handle automatically.\n",
        "\n",
        "22. What is the difference between @staticmethod and @classmethod in Python?\n",
        "    * In Python, @staticmethod and @classmethod are ways to define special methods in a class, but they work differently. Here’s a simple explanation:\n",
        "\n",
        "    * @staticmethod:\n",
        "     * A method that belongs to the class but acts like a regular function.\n",
        "     * It doesn’t know about the class or object it’s in—no self or cls.\n",
        "     * Use it for simple tasks related to the class, like a helper function.\n",
        "            Example: A function to return a dog’s bark sound that doesn’t need any specific dog’s info.\n",
        "    * @classmethod:\n",
        "     * A method that gets the class itself (cls) as its first argument.\n",
        "     * It can work with class-wide data, like changing a setting for all objects.\n",
        "     * Use it for things like creating objects in special ways or updating class info.\n",
        "            Example: A method to change what species all dogs belong to.\n",
        "\n",
        "23. How does polymorphism work in Python with inheritance?\n",
        "    * Polymorphism means \"many forms.\" With inheritance, a child class can redefine a method from its parent class to do something different.\n",
        "    * How It Works:\n",
        "     * A parent class defines a method (e.g., speak()).\n",
        "     * Child classes inherit from the parent and override the method with their own versions.\n",
        "     * You can call the method on a parent class reference (or a list of objects), and Python automatically runs the correct version based on the object’s actual class.\n",
        "\n",
        "24. What is method chaining in Python OOP?\n",
        "    * Method chaining in Python Object-Oriented Programming (OOP) is a technique where multiple methods of an object are called in a single line, one after another, using dot (.) notation. It’s possible when each method returns the object itself (typically self), allowing the next method to be called on that returned object.\n",
        "\n",
        "25. What is the purpose of the __call__ method in Python?\n",
        "    * he __call__ method in Python is a special (magic) method that allows an object to be called like a function. When you define __call__ in a class, instances of that class can be used with parentheses () as if they were functions, enabling custom behavior for those calls.\n",
        "     * Purpose: To define what happens when an instance is \"called\" with parentheses, e.g., my_object().\n",
        "  "
      ],
      "metadata": {
        "id": "5LXOnH0snhhn"
      }
    },
    {
      "cell_type": "markdown",
      "source": [
        "# Practical Questions"
      ],
      "metadata": {
        "id": "MuYkvm8u9Da1"
      }
    },
    {
      "cell_type": "code",
      "source": [
        "# 1. Create a parent class Animal with a method speak() that prints a generic message. Create a child class Dog that overrides the speak() method to print \"Bark!\".\n",
        "class Animal:\n",
        "    def speak(self):\n",
        "        print(\"Sound\")\n",
        "\n",
        "class Dog(Animal):\n",
        "    def speak(self):\n",
        "        print(\"Bark!\")\n",
        "\n",
        "animal = Animal()\n",
        "dog = Dog()\n",
        "\n",
        "animal.speak() # Output: Sound\n",
        "dog.speak()    # Output: Bark!"
      ],
      "metadata": {
        "colab": {
          "base_uri": "https://localhost:8080/"
        },
        "collapsed": true,
        "id": "WpefBluW9Npp",
        "outputId": "0b743c90-3a6c-450f-e11f-cd7bf89b1b34"
      },
      "execution_count": 2,
      "outputs": [
        {
          "output_type": "stream",
          "name": "stdout",
          "text": [
            "Sound\n",
            "Bark!\n"
          ]
        }
      ]
    },
    {
      "cell_type": "code",
      "source": [
        "# 2. Write a program to create an abstract class Shape with a method area(). Derive classes Circle and Rectangle from it and implement the area() method in both.\n",
        "from abc import ABC, abstractmethod\n",
        "import math\n",
        "\n",
        "class Shape(ABC):\n",
        "    @abstractmethod\n",
        "    def area(self):\n",
        "        pass\n",
        "\n",
        "class Circle(Shape):\n",
        "    def __init__(self, radius):\n",
        "        self.radius = radius\n",
        "    def area(self):\n",
        "        return math.pi * self.radius**2\n",
        "\n",
        "class Rectangle(Shape):\n",
        "    def __init__(self, width, height):\n",
        "        self.width = width\n",
        "        self.height = height\n",
        "    def area(self):\n",
        "        return self.width * self.height\n",
        "\n",
        "c = Circle(5)\n",
        "r = Rectangle(4, 6)\n",
        "\n",
        "print(f\"Circle Area: {c.area():.2f}\")\n",
        "print(f\"Rectangle Area: {r.area()}\")"
      ],
      "metadata": {
        "colab": {
          "base_uri": "https://localhost:8080/"
        },
        "collapsed": true,
        "id": "m4EHYt459qNx",
        "outputId": "9e19618a-5473-4155-e9de-f5edb7e26861"
      },
      "execution_count": 3,
      "outputs": [
        {
          "output_type": "stream",
          "name": "stdout",
          "text": [
            "Circle Area: 78.54\n",
            "Rectangle Area: 24\n"
          ]
        }
      ]
    },
    {
      "cell_type": "code",
      "source": [
        "# 3.  Implement a multi-level inheritance scenario where a class Vehicle has an attribute type. Derive a class Car and further derive a class ElectricCar that adds a battery attribute.\n",
        "class Vehicle:\n",
        "    def __init__(self, type):\n",
        "        self.type = type\n",
        "    def show_type(self):\n",
        "        print(f\"Type: {self.type}\")\n",
        "\n",
        "class Car(Vehicle):\n",
        "    def __init__(self, make):\n",
        "        super().__init__(\"Car\")\n",
        "        self.make = make\n",
        "    def show_make(self):\n",
        "        super().show_type()\n",
        "        print(f\"Make: {self.make}\")\n",
        "\n",
        "class ElectricCar(Car):\n",
        "    def __init__(self, make, battery):\n",
        "        super().__init__(make)\n",
        "        self.battery = battery\n",
        "    def show_battery(self):\n",
        "        super().show_make()\n",
        "        print(f\"Battery: {self.battery}\")\n",
        "\n",
        "ev = ElectricCar(\"Tesla\", \"75 kWh\")\n",
        "ev.show_battery()"
      ],
      "metadata": {
        "colab": {
          "base_uri": "https://localhost:8080/"
        },
        "collapsed": true,
        "id": "516Y5aoz-R7p",
        "outputId": "50a0dbb6-954a-4643-8949-519c7b194e74"
      },
      "execution_count": 4,
      "outputs": [
        {
          "output_type": "stream",
          "name": "stdout",
          "text": [
            "Type: Car\n",
            "Make: Tesla\n",
            "Battery: 75 kWh\n"
          ]
        }
      ]
    },
    {
      "cell_type": "code",
      "source": [
        "# 4. Demonstrate polymorphism by creating a base class Bird with a method fly(). Create two derived classes Sparrow and Penguin that override the fly() method.\n",
        "class Bird:\n",
        "    def fly(self):\n",
        "        print(\"Generic bird flight.\")\n",
        "\n",
        "class Sparrow(Bird):\n",
        "    def fly(self):\n",
        "        print(\"Sparrow flits and flies.\")\n",
        "\n",
        "class Penguin(Bird):\n",
        "    def fly(self):\n",
        "        print(\"Penguin waddles (cannot fly).\")\n",
        "\n",
        "def bird_action(bird):\n",
        "    bird.fly()\n",
        "\n",
        "sparrow = Sparrow()\n",
        "penguin = Penguin()\n",
        "\n",
        "bird_action(sparrow)\n",
        "bird_action(penguin)"
      ],
      "metadata": {
        "colab": {
          "base_uri": "https://localhost:8080/"
        },
        "collapsed": true,
        "id": "ZUKiEUqV-wT1",
        "outputId": "12d3c102-cc77-4fb8-fd76-6c356f1e0ff8"
      },
      "execution_count": 5,
      "outputs": [
        {
          "output_type": "stream",
          "name": "stdout",
          "text": [
            "Sparrow flits and flies.\n",
            "Penguin waddles (cannot fly).\n"
          ]
        }
      ]
    },
    {
      "cell_type": "code",
      "source": [
        "# 5. Write a program to demonstrate encapsulation by creating a class BankAccount with private attributes balance and methods to deposit, withdraw, and check balance.\n",
        "class BankAccount:\n",
        "    def __init__(self, name, balance=0):\n",
        "        self.name = name\n",
        "        self.__balance = balance  # Private attribute\n",
        "\n",
        "    def deposit(self, amount):\n",
        "        if amount > 0:\n",
        "            self.__balance += amount\n",
        "            return \"Deposit successful\"\n",
        "        return \"Invalid amount\"\n",
        "\n",
        "    def withdraw(self, amount):\n",
        "        if amount > 0 and self.__balance >= amount:\n",
        "            self.__balance -= amount\n",
        "            return \"Withdrawal successful\"\n",
        "        return \"Invalid amount or not enough funds\"\n",
        "\n",
        "    def get_balance(self):\n",
        "        return self.__balance\n",
        "\n",
        "# Test the class\n",
        "account = BankAccount(\"Alice\", 100)\n",
        "print(account.deposit(50))      # Output: Deposit successful\n",
        "print(account.get_balance())    # Output: 150\n",
        "print(account.withdraw(30))     # Output: Withdrawal successful\n",
        "print(account.get_balance())    # Output: 120\n",
        "print(account.deposit(-10))     # Output: Invalid amount"
      ],
      "metadata": {
        "colab": {
          "base_uri": "https://localhost:8080/"
        },
        "collapsed": true,
        "id": "537yP6Vd_dPx",
        "outputId": "ae69d319-0f80-406f-93b3-2266dc33fd19"
      },
      "execution_count": 9,
      "outputs": [
        {
          "output_type": "stream",
          "name": "stdout",
          "text": [
            "Deposit successful\n",
            "150\n",
            "Withdrawal successful\n",
            "120\n",
            "Invalid amount\n"
          ]
        }
      ]
    },
    {
      "cell_type": "code",
      "source": [
        "# 6.  Demonstrate runtime polymorphism using a method play() in a base class Instrument. Derive classes Guitar and Piano that implement their own version of play().\n",
        "# Base class\n",
        "class Instrument:\n",
        "    def play(self):\n",
        "        return \"Some sound\"\n",
        "\n",
        "# Child class 1\n",
        "class Guitar(Instrument):\n",
        "    def play(self):\n",
        "        return \"Guitar strums\"\n",
        "\n",
        "# Child class 2\n",
        "class Piano(Instrument):\n",
        "    def play(self):\n",
        "        return \"Piano keys\"\n",
        "\n",
        "# Create objects\n",
        "guitar = Guitar()\n",
        "piano = Piano()\n",
        "instrument = Instrument()\n",
        "\n",
        "# Call play() on each\n",
        "print(guitar.play())      # Output: Guitar strums\n",
        "print(piano.play())       # Output: Piano keys\n",
        "print(instrument.play())  # Output: Some sound"
      ],
      "metadata": {
        "colab": {
          "base_uri": "https://localhost:8080/"
        },
        "collapsed": true,
        "id": "O00MYOs7AHYD",
        "outputId": "79b3ab22-3a0e-45c6-e511-95a09263e3b8"
      },
      "execution_count": 8,
      "outputs": [
        {
          "output_type": "stream",
          "name": "stdout",
          "text": [
            "Guitar strums\n",
            "Piano keys\n",
            "Some sound\n"
          ]
        }
      ]
    },
    {
      "cell_type": "code",
      "source": [
        "# 7. Create a class MathOperations with a class method add_numbers() to add two numbers and a static method subtract_numbers() to subtract two numbers.\n",
        "class MathOps:\n",
        "    @classmethod\n",
        "    def add(cls, x, y):\n",
        "        return x + y\n",
        "\n",
        "    @staticmethod\n",
        "    def subtract(x, y):\n",
        "        return x - y\n",
        "\n",
        "sum_result = MathOps.add(5, 2)\n",
        "difference_result = MathOps.subtract(10, 3)\n",
        "\n",
        "print(f\"Sum: {sum_result}\")\n",
        "print(f\"Difference: {difference_result}\")"
      ],
      "metadata": {
        "colab": {
          "base_uri": "https://localhost:8080/"
        },
        "collapsed": true,
        "id": "FGmDUyhJBHuB",
        "outputId": "a18abc5f-3a37-46d8-d7af-43e719d8cf39"
      },
      "execution_count": 10,
      "outputs": [
        {
          "output_type": "stream",
          "name": "stdout",
          "text": [
            "Sum: 7\n",
            "Difference: 7\n"
          ]
        }
      ]
    },
    {
      "cell_type": "code",
      "source": [
        "# 8. Implement a class Person with a class method to count the total number of persons created.\n",
        "class Person:\n",
        "    count = 0\n",
        "\n",
        "    def __init__(self, name, age):\n",
        "        self.name = name\n",
        "        self.age = age\n",
        "        Person.count += 1\n",
        "\n",
        "    @classmethod\n",
        "    def get_count(cls):\n",
        "        return cls.count\n",
        "\n",
        "p1 = Person(\"Joy\", 30)\n",
        "p2 = Person(\"Ben\", 25)\n",
        "print(Person.get_count())\n",
        "\n"
      ],
      "metadata": {
        "colab": {
          "base_uri": "https://localhost:8080/"
        },
        "collapsed": true,
        "id": "rI7oQWABBek1",
        "outputId": "1aff8230-356e-4aaf-be63-03d215d98d6b"
      },
      "execution_count": 12,
      "outputs": [
        {
          "output_type": "stream",
          "name": "stdout",
          "text": [
            "2\n"
          ]
        }
      ]
    },
    {
      "cell_type": "code",
      "source": [
        "# 9. Write a class Fraction with attributes numerator and denominator. Override the str method to display the fraction as \"numerator/denominator\".\n",
        "class Fraction:\n",
        "    def __init__(self, numerator, denominator):\n",
        "        self.numerator = numerator\n",
        "        self.denominator = denominator\n",
        "\n",
        "    def __str__(self):\n",
        "        return f\"{self.numerator}/{self.denominator}\"\n",
        "\n",
        "# Test the Fraction class\n",
        "frac1 = Fraction(3, 4)\n",
        "frac2 = Fraction(1, 2)\n",
        "\n",
        "# Display fractions using print (calls __str__)\n",
        "print(frac1)  # Output: 3/4\n",
        "print(frac2)  # Output: 1/2"
      ],
      "metadata": {
        "colab": {
          "base_uri": "https://localhost:8080/"
        },
        "collapsed": true,
        "id": "O8ybkROHCceW",
        "outputId": "494b20ca-fb27-41bf-d303-b920a07caa31"
      },
      "execution_count": 15,
      "outputs": [
        {
          "output_type": "stream",
          "name": "stdout",
          "text": [
            "3/4\n",
            "1/2\n"
          ]
        }
      ]
    },
    {
      "cell_type": "code",
      "source": [
        "# 10. Demonstrate operator overloading by creating a class Vector and overriding the add method to add two vectors.\n",
        "class Vector:\n",
        "    def __init__(self, x, y):\n",
        "        self.x = x\n",
        "        self.y = y\n",
        "\n",
        "    def __add__(self, other):\n",
        "        return Vector(self.x + other.x, self.y + other.y)\n",
        "\n",
        "    def __str__(self):\n",
        "        return f\"({self.x}, {self.y})\"\n",
        "\n",
        "v1 = Vector(2, 4)\n",
        "v2 = Vector(3, 1)\n",
        "v3 = v1 + v2\n",
        "print(v3)\n"
      ],
      "metadata": {
        "colab": {
          "base_uri": "https://localhost:8080/"
        },
        "collapsed": true,
        "id": "DeeC1h80C0Wf",
        "outputId": "755baee2-0445-491b-cbea-baf525785d16"
      },
      "execution_count": 16,
      "outputs": [
        {
          "output_type": "stream",
          "name": "stdout",
          "text": [
            "(5, 5)\n"
          ]
        }
      ]
    },
    {
      "cell_type": "code",
      "source": [
        "# 11. Create a class Person with attributes name and age. Add a method greet() that prints \"Hello, my name is {name} and I am {age} years old.\"\n",
        "class Person:\n",
        "    def __init__(self, name, age):\n",
        "        self.name = name\n",
        "        self.age = age\n",
        "\n",
        "    def greet(self):\n",
        "        print(f\"Hello, my name is {self.name} and I am {self.age} years old.\")\n",
        "\n",
        "p1 = Person(\"Joy\", 30)\n",
        "p2 = Person(\"Ben\", 25)\n",
        "p1.greet()\n",
        "p2.greet()\n"
      ],
      "metadata": {
        "colab": {
          "base_uri": "https://localhost:8080/"
        },
        "collapsed": true,
        "id": "rnSqV_d-DEiu",
        "outputId": "9578f72c-9d84-4d26-8f9b-71234dddd7ce"
      },
      "execution_count": 18,
      "outputs": [
        {
          "output_type": "stream",
          "name": "stdout",
          "text": [
            "Hello, my name is Joy and I am 30 years old.\n",
            "Hello, my name is Ben and I am 25 years old.\n"
          ]
        }
      ]
    },
    {
      "cell_type": "code",
      "source": [
        "# 12. Implement a class Student with attributes name and grades. Create a method average_grade() to compute the average of the grades.\n",
        "class Student:\n",
        "    def __init__(self, name, grades):\n",
        "        self.name = name\n",
        "        self.grades = grades\n",
        "\n",
        "    def average_grade(self):\n",
        "        return sum(self.grades) / len(self.grades) if self.grades else 0\n",
        "\n",
        "s1 = Student(\"Gowtham\", [90, 85, 92, 78])\n",
        "s2 = Student(\"Bob\", [76, 88, 80, 95])\n",
        "s3 = Student(\"Arun\", [])\n",
        "\n",
        "print(f\"{s1.name}'s average: {s1.average_grade():.2f}\")\n",
        "print(f\"{s2.name}'s average: {s2.average_grade():.2f}\")\n",
        "print(f\"{s3.name}'s average: {s3.average_grade():.2f}\")\n",
        "\n"
      ],
      "metadata": {
        "colab": {
          "base_uri": "https://localhost:8080/"
        },
        "collapsed": true,
        "id": "ejyQ_--4DdNE",
        "outputId": "97a4316e-894c-47f4-a748-b262149f919a"
      },
      "execution_count": 19,
      "outputs": [
        {
          "output_type": "stream",
          "name": "stdout",
          "text": [
            "Gowtham's average: 86.25\n",
            "Bob's average: 84.75\n",
            "Arun's average: 0.00\n"
          ]
        }
      ]
    },
    {
      "cell_type": "code",
      "source": [
        "# 13. Create a class Rectangle with methods set_dimensions() to set the dimensions and area() to calculate the area.\n",
        "class Rectangle:\n",
        "    def __init__(self, width=0, height=0):\n",
        "        self.width = width\n",
        "        self.height = height\n",
        "\n",
        "    def set_dimensions(self, width, height):\n",
        "        self.width = width\n",
        "        self.height = height\n",
        "\n",
        "    def area(self):\n",
        "        return self.width * self.height\n",
        "\n",
        "r1 = Rectangle(5, 10)\n",
        "r2 = Rectangle(3, 7)\n",
        "print(f\"Area of r1: {r1.area()}\")\n",
        "print(f\"Area of r2: {r2.area()}\")\n"
      ],
      "metadata": {
        "colab": {
          "base_uri": "https://localhost:8080/"
        },
        "collapsed": true,
        "id": "JdJaRVKnFt9E",
        "outputId": "2ce5053c-ec02-4a0d-f1c0-c21e76594611"
      },
      "execution_count": 20,
      "outputs": [
        {
          "output_type": "stream",
          "name": "stdout",
          "text": [
            "Area of r1: 50\n",
            "Area of r2: 21\n"
          ]
        }
      ]
    },
    {
      "cell_type": "code",
      "source": [
        "# 14. Create a class Employee with a method calculate_salary() that computes the salary based on hours worked and hourly rate. Create a derived class Manager that adds a bonus to the salary.\n",
        "class Employee:\n",
        "    def __init__(self, name, hours, rate):\n",
        "        self.name = name\n",
        "        self.hours = hours\n",
        "        self.rate = rate\n",
        "\n",
        "    def calculate_salary(self):\n",
        "        return self.hours * self.rate\n",
        "\n",
        "class Manager(Employee):\n",
        "    def __init__(self, name, hours, rate, bonus):\n",
        "        super().__init__(name, hours, rate)\n",
        "        self.bonus = bonus\n",
        "\n",
        "    def calculate_salary(self):\n",
        "        return super().calculate_salary() + self.bonus\n",
        "\n",
        "# Test the classes\n",
        "emp = Employee(\"Gowtham\", 40, 20)\n",
        "mgr = Manager(\"Nitesh\", 40, 30, 500)\n",
        "\n",
        "print(f\"{emp.name}'s salary: ${emp.calculate_salary()}\")  # Output: Alice's salary: $800\n",
        "print(f\"{mgr.name}'s salary: ${mgr.calculate_salary()}\")  # Output: Bob's salary: $1700"
      ],
      "metadata": {
        "colab": {
          "base_uri": "https://localhost:8080/"
        },
        "collapsed": true,
        "id": "1_6aUes3GBeP",
        "outputId": "0c603854-9341-41ec-9d0e-d36e4af4d2e6"
      },
      "execution_count": 21,
      "outputs": [
        {
          "output_type": "stream",
          "name": "stdout",
          "text": [
            "Gowtham's salary: $800\n",
            "Nitesh's salary: $1700\n"
          ]
        }
      ]
    },
    {
      "cell_type": "code",
      "source": [
        "# 15. Create a class Product with attributes name, price, and quantity. Implement a method total_price() that calculates the total price of the product.\n",
        "class Product:\n",
        "    def __init__(self, name, price, quantity):\n",
        "        self.name = name\n",
        "        self.price = price\n",
        "        self.quantity = quantity\n",
        "\n",
        "    def total_price(self):\n",
        "        return self.price * self.quantity\n",
        "\n",
        "p1 = Product(\"Laptop\", 1200.00, 5)\n",
        "p2 = Product(\"Mouse\", 25.00, 10)\n",
        "\n",
        "print(f\"{p1.name} - Total: ${p1.total_price():.2f}\")\n",
        "print(f\"{p2.name} - Total: ${p2.total_price():.2f}\")\n"
      ],
      "metadata": {
        "colab": {
          "base_uri": "https://localhost:8080/"
        },
        "collapsed": true,
        "id": "E4IauEkAGjPJ",
        "outputId": "a776b22c-df4e-4b94-f2ec-698857acf7cd"
      },
      "execution_count": 22,
      "outputs": [
        {
          "output_type": "stream",
          "name": "stdout",
          "text": [
            "Laptop - Total: $6000.00\n",
            "Mouse - Total: $250.00\n"
          ]
        }
      ]
    },
    {
      "cell_type": "code",
      "source": [
        "# 16. Create a class Animal with an abstract method sound(). Create two derived classes Cow and Sheep that implement the sound() method.\n",
        "from abc import ABC, abstractmethod\n",
        "\n",
        "class Animal(ABC):\n",
        "    @abstractmethod\n",
        "    def sound(self):\n",
        "        pass\n",
        "\n",
        "class Cow(Animal):\n",
        "    def sound(self):\n",
        "        print(\"Moo!\")\n",
        "\n",
        "class Sheep(Animal):\n",
        "    def sound(self):\n",
        "        print(\"Baa!\")\n",
        "\n",
        "Cow().sound()\n",
        "Sheep().sound()\n"
      ],
      "metadata": {
        "colab": {
          "base_uri": "https://localhost:8080/"
        },
        "collapsed": true,
        "id": "cK6L_YVPG1VR",
        "outputId": "b02cc77d-033c-4198-d65f-1de379d3886c"
      },
      "execution_count": 23,
      "outputs": [
        {
          "output_type": "stream",
          "name": "stdout",
          "text": [
            "Moo!\n",
            "Baa!\n"
          ]
        }
      ]
    },
    {
      "cell_type": "code",
      "source": [
        "# 17. Create a class Book with attributes title, author, and year_published. Add a method get_book_info() that returns a formatted string with the book's details.\n",
        "class Book:\n",
        "    def __init__(self, title, author, year):\n",
        "        self.title = title\n",
        "        self.author = author\n",
        "        self.year = year\n",
        "\n",
        "    def get_info(self):\n",
        "        return f\"Title: {self.title}, Author: {self.author}, Year: {self.year}\"\n",
        "\n",
        "b1 = Book(\"The Lord of the Rings\", \"J.R.R. Tolkien\", 1954)\n",
        "b2 = Book(\"1984\", \"George Orwell\", 1949)\n",
        "\n",
        "print(b1.get_info())\n",
        "print(b2.get_info())\n"
      ],
      "metadata": {
        "colab": {
          "base_uri": "https://localhost:8080/"
        },
        "collapsed": true,
        "id": "dLqdwQ-kHHXn",
        "outputId": "882def8b-84f5-4990-ff36-9037dfa08718"
      },
      "execution_count": 26,
      "outputs": [
        {
          "output_type": "stream",
          "name": "stdout",
          "text": [
            "Title: The Lord of the Rings, Author: J.R.R. Tolkien, Year: 1954\n",
            "Title: 1984, Author: George Orwell, Year: 1949\n"
          ]
        }
      ]
    },
    {
      "cell_type": "code",
      "source": [
        "# 18. Create a class House with attributes address and price. Create a derived class Mansion that adds an attribute number_of_rooms.\n",
        "class House:\n",
        "    def __init__(self, address, price):\n",
        "        self.address = address\n",
        "        self.price = price\n",
        "\n",
        "class Mansion(House):\n",
        "    def __init__(self, address, price, rooms):\n",
        "        super().__init__(address, price)\n",
        "        self.rooms = rooms\n",
        "\n",
        "# Test\n",
        "house = House(\"123 Main St\", 250000)\n",
        "mansion = Mansion(\"456 Elm St\", 1000000, 8)\n",
        "\n",
        "print(f\"House: {house.address}, ${house.price}\")\n",
        "print(f\"Mansion: {mansion.address}, ${mansion.price}, {mansion.rooms} rooms\")"
      ],
      "metadata": {
        "colab": {
          "base_uri": "https://localhost:8080/"
        },
        "collapsed": true,
        "id": "2EcUE82gHsS0",
        "outputId": "f59ad58b-741a-47d7-c5f3-2bd88cbcc571"
      },
      "execution_count": 28,
      "outputs": [
        {
          "output_type": "stream",
          "name": "stdout",
          "text": [
            "House: 123 Main St, $250000\n",
            "Mansion: 456 Elm St, $1000000, 8 rooms\n"
          ]
        }
      ]
    }
  ]
}